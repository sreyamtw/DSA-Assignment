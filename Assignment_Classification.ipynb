{
  "nbformat": 4,
  "nbformat_minor": 0,
  "metadata": {
    "colab": {
      "provenance": [],
      "authorship_tag": "ABX9TyNoeGYBbQ8iCP2pXNALbEG/"
    },
    "kernelspec": {
      "name": "python3",
      "display_name": "Python 3"
    },
    "language_info": {
      "name": "python"
    }
  },
  "cells": [
    {
      "cell_type": "code",
      "execution_count": 2,
      "metadata": {
        "id": "PyTqzS5v8Jyf"
      },
      "outputs": [],
      "source": [
        "import pandas as pd\n",
        "import numpy as np\n",
        "import matplotlib.pyplot as plt"
      ]
    },
    {
      "cell_type": "markdown",
      "source": [
        " 1. Read the dataset to python environment"
      ],
      "metadata": {
        "id": "qzppAC6FYm5t"
      }
    },
    {
      "cell_type": "code",
      "source": [
        "df = pd.read_excel('iris.xls')\n",
        "df.head()"
      ],
      "metadata": {
        "colab": {
          "base_uri": "https://localhost:8080/",
          "height": 206
        },
        "id": "7pbvy7uI9Ruy",
        "outputId": "4544f961-aba3-483d-c98f-49b749b59e01"
      },
      "execution_count": 3,
      "outputs": [
        {
          "output_type": "execute_result",
          "data": {
            "text/plain": [
              "    SL   SW   PL   PW Classification\n",
              "0  5.1  3.5  1.4  0.2    Iris-setosa\n",
              "1  4.9  3.0  1.4  0.2    Iris-setosa\n",
              "2  NaN  3.2  1.3  0.2    Iris-setosa\n",
              "3  4.6  3.1  1.5  0.2    Iris-setosa\n",
              "4  5.0  3.6  1.4  0.2    Iris-setosa"
            ],
            "text/html": [
              "\n",
              "  <div id=\"df-24b00c85-ae1a-4153-9a96-2866d25bdcc8\" class=\"colab-df-container\">\n",
              "    <div>\n",
              "<style scoped>\n",
              "    .dataframe tbody tr th:only-of-type {\n",
              "        vertical-align: middle;\n",
              "    }\n",
              "\n",
              "    .dataframe tbody tr th {\n",
              "        vertical-align: top;\n",
              "    }\n",
              "\n",
              "    .dataframe thead th {\n",
              "        text-align: right;\n",
              "    }\n",
              "</style>\n",
              "<table border=\"1\" class=\"dataframe\">\n",
              "  <thead>\n",
              "    <tr style=\"text-align: right;\">\n",
              "      <th></th>\n",
              "      <th>SL</th>\n",
              "      <th>SW</th>\n",
              "      <th>PL</th>\n",
              "      <th>PW</th>\n",
              "      <th>Classification</th>\n",
              "    </tr>\n",
              "  </thead>\n",
              "  <tbody>\n",
              "    <tr>\n",
              "      <th>0</th>\n",
              "      <td>5.1</td>\n",
              "      <td>3.5</td>\n",
              "      <td>1.4</td>\n",
              "      <td>0.2</td>\n",
              "      <td>Iris-setosa</td>\n",
              "    </tr>\n",
              "    <tr>\n",
              "      <th>1</th>\n",
              "      <td>4.9</td>\n",
              "      <td>3.0</td>\n",
              "      <td>1.4</td>\n",
              "      <td>0.2</td>\n",
              "      <td>Iris-setosa</td>\n",
              "    </tr>\n",
              "    <tr>\n",
              "      <th>2</th>\n",
              "      <td>NaN</td>\n",
              "      <td>3.2</td>\n",
              "      <td>1.3</td>\n",
              "      <td>0.2</td>\n",
              "      <td>Iris-setosa</td>\n",
              "    </tr>\n",
              "    <tr>\n",
              "      <th>3</th>\n",
              "      <td>4.6</td>\n",
              "      <td>3.1</td>\n",
              "      <td>1.5</td>\n",
              "      <td>0.2</td>\n",
              "      <td>Iris-setosa</td>\n",
              "    </tr>\n",
              "    <tr>\n",
              "      <th>4</th>\n",
              "      <td>5.0</td>\n",
              "      <td>3.6</td>\n",
              "      <td>1.4</td>\n",
              "      <td>0.2</td>\n",
              "      <td>Iris-setosa</td>\n",
              "    </tr>\n",
              "  </tbody>\n",
              "</table>\n",
              "</div>\n",
              "    <div class=\"colab-df-buttons\">\n",
              "\n",
              "  <div class=\"colab-df-container\">\n",
              "    <button class=\"colab-df-convert\" onclick=\"convertToInteractive('df-24b00c85-ae1a-4153-9a96-2866d25bdcc8')\"\n",
              "            title=\"Convert this dataframe to an interactive table.\"\n",
              "            style=\"display:none;\">\n",
              "\n",
              "  <svg xmlns=\"http://www.w3.org/2000/svg\" height=\"24px\" viewBox=\"0 -960 960 960\">\n",
              "    <path d=\"M120-120v-720h720v720H120Zm60-500h600v-160H180v160Zm220 220h160v-160H400v160Zm0 220h160v-160H400v160ZM180-400h160v-160H180v160Zm440 0h160v-160H620v160ZM180-180h160v-160H180v160Zm440 0h160v-160H620v160Z\"/>\n",
              "  </svg>\n",
              "    </button>\n",
              "\n",
              "  <style>\n",
              "    .colab-df-container {\n",
              "      display:flex;\n",
              "      gap: 12px;\n",
              "    }\n",
              "\n",
              "    .colab-df-convert {\n",
              "      background-color: #E8F0FE;\n",
              "      border: none;\n",
              "      border-radius: 50%;\n",
              "      cursor: pointer;\n",
              "      display: none;\n",
              "      fill: #1967D2;\n",
              "      height: 32px;\n",
              "      padding: 0 0 0 0;\n",
              "      width: 32px;\n",
              "    }\n",
              "\n",
              "    .colab-df-convert:hover {\n",
              "      background-color: #E2EBFA;\n",
              "      box-shadow: 0px 1px 2px rgba(60, 64, 67, 0.3), 0px 1px 3px 1px rgba(60, 64, 67, 0.15);\n",
              "      fill: #174EA6;\n",
              "    }\n",
              "\n",
              "    .colab-df-buttons div {\n",
              "      margin-bottom: 4px;\n",
              "    }\n",
              "\n",
              "    [theme=dark] .colab-df-convert {\n",
              "      background-color: #3B4455;\n",
              "      fill: #D2E3FC;\n",
              "    }\n",
              "\n",
              "    [theme=dark] .colab-df-convert:hover {\n",
              "      background-color: #434B5C;\n",
              "      box-shadow: 0px 1px 3px 1px rgba(0, 0, 0, 0.15);\n",
              "      filter: drop-shadow(0px 1px 2px rgba(0, 0, 0, 0.3));\n",
              "      fill: #FFFFFF;\n",
              "    }\n",
              "  </style>\n",
              "\n",
              "    <script>\n",
              "      const buttonEl =\n",
              "        document.querySelector('#df-24b00c85-ae1a-4153-9a96-2866d25bdcc8 button.colab-df-convert');\n",
              "      buttonEl.style.display =\n",
              "        google.colab.kernel.accessAllowed ? 'block' : 'none';\n",
              "\n",
              "      async function convertToInteractive(key) {\n",
              "        const element = document.querySelector('#df-24b00c85-ae1a-4153-9a96-2866d25bdcc8');\n",
              "        const dataTable =\n",
              "          await google.colab.kernel.invokeFunction('convertToInteractive',\n",
              "                                                    [key], {});\n",
              "        if (!dataTable) return;\n",
              "\n",
              "        const docLinkHtml = 'Like what you see? Visit the ' +\n",
              "          '<a target=\"_blank\" href=https://colab.research.google.com/notebooks/data_table.ipynb>data table notebook</a>'\n",
              "          + ' to learn more about interactive tables.';\n",
              "        element.innerHTML = '';\n",
              "        dataTable['output_type'] = 'display_data';\n",
              "        await google.colab.output.renderOutput(dataTable, element);\n",
              "        const docLink = document.createElement('div');\n",
              "        docLink.innerHTML = docLinkHtml;\n",
              "        element.appendChild(docLink);\n",
              "      }\n",
              "    </script>\n",
              "  </div>\n",
              "\n",
              "\n",
              "<div id=\"df-392fecd4-ef32-4a0c-bace-720215a9e67e\">\n",
              "  <button class=\"colab-df-quickchart\" onclick=\"quickchart('df-392fecd4-ef32-4a0c-bace-720215a9e67e')\"\n",
              "            title=\"Suggest charts\"\n",
              "            style=\"display:none;\">\n",
              "\n",
              "<svg xmlns=\"http://www.w3.org/2000/svg\" height=\"24px\"viewBox=\"0 0 24 24\"\n",
              "     width=\"24px\">\n",
              "    <g>\n",
              "        <path d=\"M19 3H5c-1.1 0-2 .9-2 2v14c0 1.1.9 2 2 2h14c1.1 0 2-.9 2-2V5c0-1.1-.9-2-2-2zM9 17H7v-7h2v7zm4 0h-2V7h2v10zm4 0h-2v-4h2v4z\"/>\n",
              "    </g>\n",
              "</svg>\n",
              "  </button>\n",
              "\n",
              "<style>\n",
              "  .colab-df-quickchart {\n",
              "      --bg-color: #E8F0FE;\n",
              "      --fill-color: #1967D2;\n",
              "      --hover-bg-color: #E2EBFA;\n",
              "      --hover-fill-color: #174EA6;\n",
              "      --disabled-fill-color: #AAA;\n",
              "      --disabled-bg-color: #DDD;\n",
              "  }\n",
              "\n",
              "  [theme=dark] .colab-df-quickchart {\n",
              "      --bg-color: #3B4455;\n",
              "      --fill-color: #D2E3FC;\n",
              "      --hover-bg-color: #434B5C;\n",
              "      --hover-fill-color: #FFFFFF;\n",
              "      --disabled-bg-color: #3B4455;\n",
              "      --disabled-fill-color: #666;\n",
              "  }\n",
              "\n",
              "  .colab-df-quickchart {\n",
              "    background-color: var(--bg-color);\n",
              "    border: none;\n",
              "    border-radius: 50%;\n",
              "    cursor: pointer;\n",
              "    display: none;\n",
              "    fill: var(--fill-color);\n",
              "    height: 32px;\n",
              "    padding: 0;\n",
              "    width: 32px;\n",
              "  }\n",
              "\n",
              "  .colab-df-quickchart:hover {\n",
              "    background-color: var(--hover-bg-color);\n",
              "    box-shadow: 0 1px 2px rgba(60, 64, 67, 0.3), 0 1px 3px 1px rgba(60, 64, 67, 0.15);\n",
              "    fill: var(--button-hover-fill-color);\n",
              "  }\n",
              "\n",
              "  .colab-df-quickchart-complete:disabled,\n",
              "  .colab-df-quickchart-complete:disabled:hover {\n",
              "    background-color: var(--disabled-bg-color);\n",
              "    fill: var(--disabled-fill-color);\n",
              "    box-shadow: none;\n",
              "  }\n",
              "\n",
              "  .colab-df-spinner {\n",
              "    border: 2px solid var(--fill-color);\n",
              "    border-color: transparent;\n",
              "    border-bottom-color: var(--fill-color);\n",
              "    animation:\n",
              "      spin 1s steps(1) infinite;\n",
              "  }\n",
              "\n",
              "  @keyframes spin {\n",
              "    0% {\n",
              "      border-color: transparent;\n",
              "      border-bottom-color: var(--fill-color);\n",
              "      border-left-color: var(--fill-color);\n",
              "    }\n",
              "    20% {\n",
              "      border-color: transparent;\n",
              "      border-left-color: var(--fill-color);\n",
              "      border-top-color: var(--fill-color);\n",
              "    }\n",
              "    30% {\n",
              "      border-color: transparent;\n",
              "      border-left-color: var(--fill-color);\n",
              "      border-top-color: var(--fill-color);\n",
              "      border-right-color: var(--fill-color);\n",
              "    }\n",
              "    40% {\n",
              "      border-color: transparent;\n",
              "      border-right-color: var(--fill-color);\n",
              "      border-top-color: var(--fill-color);\n",
              "    }\n",
              "    60% {\n",
              "      border-color: transparent;\n",
              "      border-right-color: var(--fill-color);\n",
              "    }\n",
              "    80% {\n",
              "      border-color: transparent;\n",
              "      border-right-color: var(--fill-color);\n",
              "      border-bottom-color: var(--fill-color);\n",
              "    }\n",
              "    90% {\n",
              "      border-color: transparent;\n",
              "      border-bottom-color: var(--fill-color);\n",
              "    }\n",
              "  }\n",
              "</style>\n",
              "\n",
              "  <script>\n",
              "    async function quickchart(key) {\n",
              "      const quickchartButtonEl =\n",
              "        document.querySelector('#' + key + ' button');\n",
              "      quickchartButtonEl.disabled = true;  // To prevent multiple clicks.\n",
              "      quickchartButtonEl.classList.add('colab-df-spinner');\n",
              "      try {\n",
              "        const charts = await google.colab.kernel.invokeFunction(\n",
              "            'suggestCharts', [key], {});\n",
              "      } catch (error) {\n",
              "        console.error('Error during call to suggestCharts:', error);\n",
              "      }\n",
              "      quickchartButtonEl.classList.remove('colab-df-spinner');\n",
              "      quickchartButtonEl.classList.add('colab-df-quickchart-complete');\n",
              "    }\n",
              "    (() => {\n",
              "      let quickchartButtonEl =\n",
              "        document.querySelector('#df-392fecd4-ef32-4a0c-bace-720215a9e67e button');\n",
              "      quickchartButtonEl.style.display =\n",
              "        google.colab.kernel.accessAllowed ? 'block' : 'none';\n",
              "    })();\n",
              "  </script>\n",
              "</div>\n",
              "\n",
              "    </div>\n",
              "  </div>\n"
            ],
            "application/vnd.google.colaboratory.intrinsic+json": {
              "type": "dataframe",
              "variable_name": "df",
              "summary": "{\n  \"name\": \"df\",\n  \"rows\": 150,\n  \"fields\": [\n    {\n      \"column\": \"SL\",\n      \"properties\": {\n        \"dtype\": \"number\",\n        \"std\": 0.8281680425537905,\n        \"min\": 4.3,\n        \"max\": 7.9,\n        \"num_unique_values\": 35,\n        \"samples\": [\n          6.4,\n          4.5,\n          6.7\n        ],\n        \"semantic_type\": \"\",\n        \"description\": \"\"\n      }\n    },\n    {\n      \"column\": \"SW\",\n      \"properties\": {\n        \"dtype\": \"number\",\n        \"std\": 0.43064377370288276,\n        \"min\": 2.0,\n        \"max\": 4.4,\n        \"num_unique_values\": 23,\n        \"samples\": [\n          2.3,\n          4.4,\n          3.5\n        ],\n        \"semantic_type\": \"\",\n        \"description\": \"\"\n      }\n    },\n    {\n      \"column\": \"PL\",\n      \"properties\": {\n        \"dtype\": \"number\",\n        \"std\": 1.7613058867140106,\n        \"min\": 1.0,\n        \"max\": 6.9,\n        \"num_unique_values\": 43,\n        \"samples\": [\n          6.9,\n          3.8,\n          3.7\n        ],\n        \"semantic_type\": \"\",\n        \"description\": \"\"\n      }\n    },\n    {\n      \"column\": \"PW\",\n      \"properties\": {\n        \"dtype\": \"number\",\n        \"std\": 0.7631607417008414,\n        \"min\": 0.1,\n        \"max\": 2.5,\n        \"num_unique_values\": 22,\n        \"samples\": [\n          0.2,\n          1.2,\n          1.3\n        ],\n        \"semantic_type\": \"\",\n        \"description\": \"\"\n      }\n    },\n    {\n      \"column\": \"Classification\",\n      \"properties\": {\n        \"dtype\": \"category\",\n        \"num_unique_values\": 3,\n        \"samples\": [\n          \"Iris-setosa\",\n          \"Iris-versicolor\",\n          \"Iris-virginica\"\n        ],\n        \"semantic_type\": \"\",\n        \"description\": \"\"\n      }\n    }\n  ]\n}"
            }
          },
          "metadata": {},
          "execution_count": 3
        }
      ]
    },
    {
      "cell_type": "markdown",
      "source": [
        " 2. Do the necessary pre-processing steps"
      ],
      "metadata": {
        "id": "IFC02l4PYpye"
      }
    },
    {
      "cell_type": "code",
      "source": [
        "df.info()"
      ],
      "metadata": {
        "colab": {
          "base_uri": "https://localhost:8080/"
        },
        "id": "M602-s_Z9SIe",
        "outputId": "e27a31d9-ae11-4e23-e229-0dc1d55bf608"
      },
      "execution_count": 4,
      "outputs": [
        {
          "output_type": "stream",
          "name": "stdout",
          "text": [
            "<class 'pandas.core.frame.DataFrame'>\n",
            "RangeIndex: 150 entries, 0 to 149\n",
            "Data columns (total 5 columns):\n",
            " #   Column          Non-Null Count  Dtype  \n",
            "---  ------          --------------  -----  \n",
            " 0   SL              143 non-null    float64\n",
            " 1   SW              144 non-null    float64\n",
            " 2   PL              144 non-null    float64\n",
            " 3   PW              150 non-null    float64\n",
            " 4   Classification  150 non-null    object \n",
            "dtypes: float64(4), object(1)\n",
            "memory usage: 6.0+ KB\n"
          ]
        }
      ]
    },
    {
      "cell_type": "code",
      "source": [
        "df['SL'] = df['SL'].fillna(df['SL'].mean())\n",
        "df['SW'] = df['SW'].fillna(df['SW'].mean())\n",
        "df['PL'] = df['PL'].fillna(df['PL'].mean())"
      ],
      "metadata": {
        "id": "FPYL_5_R9SK8"
      },
      "execution_count": 5,
      "outputs": []
    },
    {
      "cell_type": "code",
      "source": [
        "df.isna().sum()"
      ],
      "metadata": {
        "colab": {
          "base_uri": "https://localhost:8080/",
          "height": 241
        },
        "id": "L0ZmI9zu9SNY",
        "outputId": "d4b24fd3-33a0-4993-c27f-60cb78cfb975"
      },
      "execution_count": 6,
      "outputs": [
        {
          "output_type": "execute_result",
          "data": {
            "text/plain": [
              "SL                0\n",
              "SW                0\n",
              "PL                0\n",
              "PW                0\n",
              "Classification    0\n",
              "dtype: int64"
            ],
            "text/html": [
              "<div>\n",
              "<style scoped>\n",
              "    .dataframe tbody tr th:only-of-type {\n",
              "        vertical-align: middle;\n",
              "    }\n",
              "\n",
              "    .dataframe tbody tr th {\n",
              "        vertical-align: top;\n",
              "    }\n",
              "\n",
              "    .dataframe thead th {\n",
              "        text-align: right;\n",
              "    }\n",
              "</style>\n",
              "<table border=\"1\" class=\"dataframe\">\n",
              "  <thead>\n",
              "    <tr style=\"text-align: right;\">\n",
              "      <th></th>\n",
              "      <th>0</th>\n",
              "    </tr>\n",
              "  </thead>\n",
              "  <tbody>\n",
              "    <tr>\n",
              "      <th>SL</th>\n",
              "      <td>0</td>\n",
              "    </tr>\n",
              "    <tr>\n",
              "      <th>SW</th>\n",
              "      <td>0</td>\n",
              "    </tr>\n",
              "    <tr>\n",
              "      <th>PL</th>\n",
              "      <td>0</td>\n",
              "    </tr>\n",
              "    <tr>\n",
              "      <th>PW</th>\n",
              "      <td>0</td>\n",
              "    </tr>\n",
              "    <tr>\n",
              "      <th>Classification</th>\n",
              "      <td>0</td>\n",
              "    </tr>\n",
              "  </tbody>\n",
              "</table>\n",
              "</div><br><label><b>dtype:</b> int64</label>"
            ]
          },
          "metadata": {},
          "execution_count": 6
        }
      ]
    },
    {
      "cell_type": "code",
      "source": [
        "df.boxplot()"
      ],
      "metadata": {
        "colab": {
          "base_uri": "https://localhost:8080/",
          "height": 448
        },
        "id": "rnXCQhZR9SQ1",
        "outputId": "a27478a2-7701-427a-d2bd-7df6720d149b"
      },
      "execution_count": 13,
      "outputs": [
        {
          "output_type": "execute_result",
          "data": {
            "text/plain": [
              "<Axes: >"
            ]
          },
          "metadata": {},
          "execution_count": 13
        },
        {
          "output_type": "display_data",
          "data": {
            "text/plain": [
              "<Figure size 640x480 with 1 Axes>"
            ],
            "image/png": "[encoded data removed]"
          },
          "metadata": {}
        }
      ]
    },
    {
      "cell_type": "code",
      "source": [
        "Q1=np.percentile(df['SW'],25)\n",
        "Q3=np.percentile(df['SW'],75)\n",
        "print(Q1)\n",
        "print(Q3)"
      ],
      "metadata": {
        "colab": {
          "base_uri": "https://localhost:8080/"
        },
        "id": "F2MmEPWPCGxY",
        "outputId": "447e4a4f-64ed-4285-e556-767f73009672"
      },
      "execution_count": 14,
      "outputs": [
        {
          "output_type": "stream",
          "name": "stdout",
          "text": [
            "2.8\n",
            "3.275\n"
          ]
        }
      ]
    },
    {
      "cell_type": "code",
      "source": [
        "IQR=Q3-Q1\n",
        "l=Q1-1.5*IQR\n",
        "u=Q3+1.5*IQR"
      ],
      "metadata": {
        "id": "-4LmhpplCGtz"
      },
      "execution_count": 20,
      "outputs": []
    },
    {
      "cell_type": "code",
      "source": [
        "outlier=[]\n",
        "for x in df['SW']:\n",
        "  if x>u or x<l:\n",
        "    outlier.append(x)\n",
        "len(outlier)"
      ],
      "metadata": {
        "colab": {
          "base_uri": "https://localhost:8080/"
        },
        "id": "8xI3aMyiCGrP",
        "outputId": "b034618c-a152-4911-c9a7-33d3b104e025"
      },
      "execution_count": 21,
      "outputs": [
        {
          "output_type": "execute_result",
          "data": {
            "text/plain": [
              "5"
            ]
          },
          "metadata": {},
          "execution_count": 21
        }
      ]
    },
    {
      "cell_type": "code",
      "source": [
        "ind =(df['SW']>u) | (df['SW']<l)\n",
        "df.loc[ind].index"
      ],
      "metadata": {
        "colab": {
          "base_uri": "https://localhost:8080/"
        },
        "id": "H56Y1ZiPCGmN",
        "outputId": "b57b5299-5ca6-4dc2-debf-f9ff1839056f"
      },
      "execution_count": 22,
      "outputs": [
        {
          "output_type": "execute_result",
          "data": {
            "text/plain": [
              "Index([14, 15, 32, 33, 60], dtype='int64')"
            ]
          },
          "metadata": {},
          "execution_count": 22
        }
      ]
    },
    {
      "cell_type": "code",
      "source": [
        "df.drop([14, 15, 32, 33, 60],inplace=True)"
      ],
      "metadata": {
        "id": "icDjcb2pCGj0"
      },
      "execution_count": 23,
      "outputs": []
    },
    {
      "cell_type": "code",
      "source": [
        "x = df.drop(['Classification'],axis=1)\n",
        "y = df['Classification']\n",
        "from sklearn.preprocessing import LabelEncoder\n",
        "encoder=LabelEncoder()\n",
        "y = encoder.fit_transform(y)"
      ],
      "metadata": {
        "id": "MiJ8ZUobCGhW"
      },
      "execution_count": 27,
      "outputs": []
    },
    {
      "cell_type": "markdown",
      "source": [
        "3. Find out which classification model gives the best result (try all the classification algorithms discussed in the sessions)"
      ],
      "metadata": {
        "id": "1RoNyipPY12X"
      }
    },
    {
      "cell_type": "code",
      "source": [
        "from sklearn.model_selection import train_test_split\n",
        "x_train,x_test,y_train,y_test = train_test_split(x,y,test_size = 0.3,random_state = 42)"
      ],
      "metadata": {
        "id": "Ly5_SAlOHozf"
      },
      "execution_count": 46,
      "outputs": []
    },
    {
      "cell_type": "code",
      "source": [
        "from sklearn.linear_model import LogisticRegression\n",
        "from sklearn.svm import SVC\n",
        "from sklearn.naive_bayes import GaussianNB\n",
        "from sklearn.neighbors import KNeighborsClassifier\n",
        "from sklearn.tree import DecisionTreeClassifier\n",
        "from sklearn.ensemble import RandomForestClassifier\n",
        "from sklearn.metrics import classification_report, confusion_matrix, accuracy_score"
      ],
      "metadata": {
        "id": "pfZQ7cWuHQXM"
      },
      "execution_count": 47,
      "outputs": []
    },
    {
      "cell_type": "markdown",
      "source": [
        "Logistic Regression\n",
        "\n"
      ],
      "metadata": {
        "id": "7pTlnkKEO5PW"
      }
    },
    {
      "cell_type": "code",
      "source": [
        "from sklearn.linear_model import LogisticRegression\n",
        "reg = LogisticRegression(multi_class='ovr', max_iter = 200)\n",
        "reg = reg.fit(x_train,y_train)\n",
        "y_pred_lr = reg.predict(x_test)"
      ],
      "metadata": {
        "colab": {
          "base_uri": "https://localhost:8080/"
        },
        "id": "K3SsoXvxPRyW",
        "outputId": "d5faa5e5-78a4-4a36-be3f-50cf4fc5a6c1"
      },
      "execution_count": 60,
      "outputs": [
        {
          "output_type": "stream",
          "name": "stderr",
          "text": [
            "/usr/local/lib/python3.10/dist-packages/sklearn/linear_model/_logistic.py:1256: FutureWarning: 'multi_class' was deprecated in version 1.5 and will be removed in 1.7. Use OneVsRestClassifier(LogisticRegression(..)) instead. Leave it to its default value to avoid this warning.\n",
            "  warnings.warn(\n"
          ]
        }
      ]
    },
    {
      "cell_type": "code",
      "source": [
        "print('Accuracy :',accuracy_score(y_test,y_pred_lr))\n",
        "print('\\nConfusion Matrix \\n', confusion_matrix(y_test,y_pred_lr))\n",
        "print('\\nClassification Report :\\n',classification_report(y_test,y_pred_lr))"
      ],
      "metadata": {
        "colab": {
          "base_uri": "https://localhost:8080/"
        },
        "id": "9UbahdD-QJ7j",
        "outputId": "d3fec59f-0e64-4d38-ceb5-7999fda49500"
      },
      "execution_count": 61,
      "outputs": [
        {
          "output_type": "stream",
          "name": "stdout",
          "text": [
            "Accuracy : 0.9090909090909091\n",
            "\n",
            "Confusion Matrix \n",
            " [[14  1  0]\n",
            " [ 0 11  0]\n",
            " [ 0  3 15]]\n",
            "\n",
            "Classification Report :\n",
            "               precision    recall  f1-score   support\n",
            "\n",
            "           0       1.00      0.93      0.97        15\n",
            "           1       0.73      1.00      0.85        11\n",
            "           2       1.00      0.83      0.91        18\n",
            "\n",
            "    accuracy                           0.91        44\n",
            "   macro avg       0.91      0.92      0.91        44\n",
            "weighted avg       0.93      0.91      0.91        44\n",
            "\n"
          ]
        }
      ]
    },
    {
      "cell_type": "markdown",
      "source": [
        "SVM"
      ],
      "metadata": {
        "id": "Qe54lkcPMmz_"
      }
    },
    {
      "cell_type": "code",
      "source": [
        "model = SVC(kernel='linear')\n",
        "model.fit(x_train,y_train)\n",
        "y_pred_svm = model.predict(x_test)"
      ],
      "metadata": {
        "id": "8PPrC81jG9JU"
      },
      "execution_count": 58,
      "outputs": []
    },
    {
      "cell_type": "code",
      "source": [
        "print('Accuracy :',accuracy_score(y_test,y_pred_svm))\n",
        "print('\\nConfusion Matrix \\n', confusion_matrix(y_test,y_pred_svm))\n",
        "print('\\nClassification Report :\\n',classification_report(y_test,y_pred_svm))"
      ],
      "metadata": {
        "colab": {
          "base_uri": "https://localhost:8080/"
        },
        "id": "ycUDplXCM1MY",
        "outputId": "e2eed087-0a0a-413e-adfa-f9345c941064"
      },
      "execution_count": 59,
      "outputs": [
        {
          "output_type": "stream",
          "name": "stdout",
          "text": [
            "Accuracy : 0.9090909090909091\n",
            "\n",
            "Confusion Matrix \n",
            " [[15  0  0]\n",
            " [ 0 10  1]\n",
            " [ 0  3 15]]\n",
            "\n",
            "Classification Report :\n",
            "               precision    recall  f1-score   support\n",
            "\n",
            "           0       1.00      1.00      1.00        15\n",
            "           1       0.77      0.91      0.83        11\n",
            "           2       0.94      0.83      0.88        18\n",
            "\n",
            "    accuracy                           0.91        44\n",
            "   macro avg       0.90      0.91      0.91        44\n",
            "weighted avg       0.92      0.91      0.91        44\n",
            "\n"
          ]
        }
      ]
    },
    {
      "cell_type": "markdown",
      "source": [
        "Naive Bayes"
      ],
      "metadata": {
        "id": "7N812PnYM48J"
      }
    },
    {
      "cell_type": "code",
      "source": [
        "nb = GaussianNB()\n",
        "nb.fit(x_train,y_train)\n",
        "y_pred_nb = nb.predict(x_test)"
      ],
      "metadata": {
        "id": "hMAyhocmM3yo"
      },
      "execution_count": 64,
      "outputs": []
    },
    {
      "cell_type": "code",
      "source": [
        "print('Accuracy :',accuracy_score(y_test,y_pred_nb))\n",
        "print('\\nConfusion Matrix \\n', confusion_matrix(y_test,y_pred_nb))\n",
        "print('\\nClassification Report :\\n',classification_report(y_test,y_pred_nb))"
      ],
      "metadata": {
        "colab": {
          "base_uri": "https://localhost:8080/"
        },
        "id": "J5wbMTIUNUU3",
        "outputId": "49da8eef-3967-43be-863b-94a57524cfe7"
      },
      "execution_count": 65,
      "outputs": [
        {
          "output_type": "stream",
          "name": "stdout",
          "text": [
            "Accuracy : 0.9318181818181818\n",
            "\n",
            "Confusion Matrix \n",
            " [[15  0  0]\n",
            " [ 0 11  0]\n",
            " [ 0  3 15]]\n",
            "\n",
            "Classification Report :\n",
            "               precision    recall  f1-score   support\n",
            "\n",
            "           0       1.00      1.00      1.00        15\n",
            "           1       0.79      1.00      0.88        11\n",
            "           2       1.00      0.83      0.91        18\n",
            "\n",
            "    accuracy                           0.93        44\n",
            "   macro avg       0.93      0.94      0.93        44\n",
            "weighted avg       0.95      0.93      0.93        44\n",
            "\n"
          ]
        }
      ]
    },
    {
      "cell_type": "markdown",
      "source": [
        "KNN"
      ],
      "metadata": {
        "id": "NFe4hLxpSL85"
      }
    },
    {
      "cell_type": "code",
      "source": [
        "knn = KNeighborsClassifier(n_neighbors=3)\n",
        "knn = knn.fit(x_train, y_train)\n",
        "y_pred_knn = knn.predict(x_test)"
      ],
      "metadata": {
        "id": "SC_zcv02SKHZ"
      },
      "execution_count": 67,
      "outputs": []
    },
    {
      "cell_type": "code",
      "source": [
        "print('Accuracy :',accuracy_score(y_test,y_pred_knn))\n",
        "print('\\nConfusion Matrix \\n', confusion_matrix(y_test,y_pred_knn))\n",
        "print('\\nClassification Report :\\n',classification_report(y_test,y_pred_knn))"
      ],
      "metadata": {
        "colab": {
          "base_uri": "https://localhost:8080/"
        },
        "id": "4FCcB5ZCSKEB",
        "outputId": "0cfbcf47-495d-4e9f-f1c8-7a50800816f6"
      },
      "execution_count": 68,
      "outputs": [
        {
          "output_type": "stream",
          "name": "stdout",
          "text": [
            "Accuracy : 0.9318181818181818\n",
            "\n",
            "Confusion Matrix \n",
            " [[14  1  0]\n",
            " [ 0 10  1]\n",
            " [ 0  1 17]]\n",
            "\n",
            "Classification Report :\n",
            "               precision    recall  f1-score   support\n",
            "\n",
            "           0       1.00      0.93      0.97        15\n",
            "           1       0.83      0.91      0.87        11\n",
            "           2       0.94      0.94      0.94        18\n",
            "\n",
            "    accuracy                           0.93        44\n",
            "   macro avg       0.93      0.93      0.93        44\n",
            "weighted avg       0.94      0.93      0.93        44\n",
            "\n"
          ]
        }
      ]
    },
    {
      "cell_type": "markdown",
      "source": [
        "Decision Trees"
      ],
      "metadata": {
        "id": "yzJIp31dURX5"
      }
    },
    {
      "cell_type": "code",
      "source": [
        "dt = DecisionTreeClassifier()\n",
        "dt = dt.fit(x_train,y_train)\n",
        "y_pred_dt= dt.predict(x_test)"
      ],
      "metadata": {
        "id": "x8akbxQYSKBV"
      },
      "execution_count": 69,
      "outputs": []
    },
    {
      "cell_type": "code",
      "source": [
        "print('Accuracy :',accuracy_score(y_test,y_pred_dt))\n",
        "print('\\nConfusion Matrix \\n', confusion_matrix(y_test,y_pred_dt))\n",
        "print('\\nClassification Report :\\n',classification_report(y_test,y_pred_dt))"
      ],
      "metadata": {
        "colab": {
          "base_uri": "https://localhost:8080/"
        },
        "id": "MeAKoPYsSJ-t",
        "outputId": "150fcefa-7d92-436c-ab3e-dd189c19a447"
      },
      "execution_count": 70,
      "outputs": [
        {
          "output_type": "stream",
          "name": "stdout",
          "text": [
            "Accuracy : 0.9090909090909091\n",
            "\n",
            "Confusion Matrix \n",
            " [[15  0  0]\n",
            " [ 0 11  0]\n",
            " [ 0  4 14]]\n",
            "\n",
            "Classification Report :\n",
            "               precision    recall  f1-score   support\n",
            "\n",
            "           0       1.00      1.00      1.00        15\n",
            "           1       0.73      1.00      0.85        11\n",
            "           2       1.00      0.78      0.88        18\n",
            "\n",
            "    accuracy                           0.91        44\n",
            "   macro avg       0.91      0.93      0.91        44\n",
            "weighted avg       0.93      0.91      0.91        44\n",
            "\n"
          ]
        }
      ]
    },
    {
      "cell_type": "markdown",
      "source": [
        "Random Forest"
      ],
      "metadata": {
        "id": "L33iLhrnUWBA"
      }
    },
    {
      "cell_type": "code",
      "source": [
        "rf = RandomForestClassifier()\n",
        "rf = rf.fit(x_train,y_train)\n",
        "y_pred_rf= rf.predict(x_test)"
      ],
      "metadata": {
        "id": "4gHJttVVSJ8F"
      },
      "execution_count": 71,
      "outputs": []
    },
    {
      "cell_type": "code",
      "source": [
        "print('Accuracy :',accuracy_score(y_test,y_pred_rf))\n",
        "print('\\nConfusion Matrix \\n', confusion_matrix(y_test,y_pred_rf))\n",
        "print('\\nClassification Report :\\n',classification_report(y_test,y_pred_rf))"
      ],
      "metadata": {
        "colab": {
          "base_uri": "https://localhost:8080/"
        },
        "id": "dDpH6T6pUOmR",
        "outputId": "91839bba-12cb-4447-b1a4-c1fbef2d60d5"
      },
      "execution_count": 72,
      "outputs": [
        {
          "output_type": "stream",
          "name": "stdout",
          "text": [
            "Accuracy : 0.9090909090909091\n",
            "\n",
            "Confusion Matrix \n",
            " [[15  0  0]\n",
            " [ 0 11  0]\n",
            " [ 0  4 14]]\n",
            "\n",
            "Classification Report :\n",
            "               precision    recall  f1-score   support\n",
            "\n",
            "           0       1.00      1.00      1.00        15\n",
            "           1       0.73      1.00      0.85        11\n",
            "           2       1.00      0.78      0.88        18\n",
            "\n",
            "    accuracy                           0.91        44\n",
            "   macro avg       0.91      0.93      0.91        44\n",
            "weighted avg       0.93      0.91      0.91        44\n",
            "\n"
          ]
        }
      ]
    },
    {
      "cell_type": "markdown",
      "source": [
        "The Naive Bayes and KNN give an accuracy of 0.93. Precision is better for Naive Bayes. Both seem to be suited for this problem. But cross_validation can be done."
      ],
      "metadata": {
        "id": "Jn9vFOh9U8_l"
      }
    },
    {
      "cell_type": "code",
      "source": [
        "from sklearn.model_selection import cross_val_score, KFold\n",
        "\n",
        "models = {'Logistic Regression': LogisticRegression(multi_class='ovr', max_iter = 200),\n",
        "          'SVM': SVC(kernel='linear'),\n",
        "          'Decision Tree': DecisionTreeClassifier(),\n",
        "          'Random Forest': RandomForestClassifier(),\n",
        "          'Naive Bayes': GaussianNB(),\n",
        "          'KNN': KNeighborsClassifier()}"
      ],
      "metadata": {
        "id": "StbayEivUOi_"
      },
      "execution_count": 73,
      "outputs": []
    },
    {
      "cell_type": "code",
      "source": [
        "kf = KFold(n_splits=5, shuffle=True, random_state=42)"
      ],
      "metadata": {
        "id": "dyB_k7dFV54g"
      },
      "execution_count": 74,
      "outputs": []
    },
    {
      "cell_type": "code",
      "source": [
        "print(\"Cross-Validation Results:\")\n",
        "for name, model_kf in models.items():\n",
        "    scores = cross_val_score(model_kf, x, y, cv=kf)\n",
        "    print(f\"{name} Accuracy: {scores.mean():.2f} ± {scores.std():.2f}\")"
      ],
      "metadata": {
        "colab": {
          "base_uri": "https://localhost:8080/"
        },
        "id": "M3W9bDM-WqN7",
        "outputId": "ad084906-75bd-49b4-fcbc-5210916100e5"
      },
      "execution_count": 76,
      "outputs": [
        {
          "output_type": "stream",
          "name": "stdout",
          "text": [
            "Cross-Validation Results:\n"
          ]
        },
        {
          "output_type": "stream",
          "name": "stderr",
          "text": [
            "/usr/local/lib/python3.10/dist-packages/sklearn/linear_model/_logistic.py:1256: FutureWarning: 'multi_class' was deprecated in version 1.5 and will be removed in 1.7. Use OneVsRestClassifier(LogisticRegression(..)) instead. Leave it to its default value to avoid this warning.\n",
            "  warnings.warn(\n",
            "/usr/local/lib/python3.10/dist-packages/sklearn/linear_model/_logistic.py:1256: FutureWarning: 'multi_class' was deprecated in version 1.5 and will be removed in 1.7. Use OneVsRestClassifier(LogisticRegression(..)) instead. Leave it to its default value to avoid this warning.\n",
            "  warnings.warn(\n",
            "/usr/local/lib/python3.10/dist-packages/sklearn/linear_model/_logistic.py:1256: FutureWarning: 'multi_class' was deprecated in version 1.5 and will be removed in 1.7. Use OneVsRestClassifier(LogisticRegression(..)) instead. Leave it to its default value to avoid this warning.\n",
            "  warnings.warn(\n",
            "/usr/local/lib/python3.10/dist-packages/sklearn/linear_model/_logistic.py:1256: FutureWarning: 'multi_class' was deprecated in version 1.5 and will be removed in 1.7. Use OneVsRestClassifier(LogisticRegression(..)) instead. Leave it to its default value to avoid this warning.\n",
            "  warnings.warn(\n",
            "/usr/local/lib/python3.10/dist-packages/sklearn/linear_model/_logistic.py:1256: FutureWarning: 'multi_class' was deprecated in version 1.5 and will be removed in 1.7. Use OneVsRestClassifier(LogisticRegression(..)) instead. Leave it to its default value to avoid this warning.\n",
            "  warnings.warn(\n"
          ]
        },
        {
          "output_type": "stream",
          "name": "stdout",
          "text": [
            "Logistic Regression Accuracy: 0.90 ± 0.05\n",
            "SVM Accuracy: 0.94 ± 0.04\n",
            "Decision Tree Accuracy: 0.95 ± 0.04\n",
            "Random Forest Accuracy: 0.96 ± 0.03\n",
            "Naive Bayes Accuracy: 0.94 ± 0.04\n",
            "KNN Accuracy: 0.94 ± 0.04\n"
          ]
        }
      ]
    },
    {
      "cell_type": "markdown",
      "source": [
        "**On Cross-validation,**\n",
        "\n",
        "Logistic Regression Accuracy: 0.90 ± 0.05\n",
        "\n",
        "SVM Accuracy: 0.94 ± 0.04\n",
        "\n",
        "Decision Tree Accuracy: 0.95 ± 0.04\n",
        "\n",
        "Random Forest Accuracy: 0.96 ± 0.03\n",
        "\n",
        "Naive Bayes Accuracy: 0.94 ± 0.04\n",
        "\n",
        "KNN Accuracy: 0.94 ± 0.04\n",
        "\n",
        "**So, it seems Decision Tree and Random Forest are best for the problem. But SVM , Naive Bayes and KNN also give good accuracy. Though Logistic Regression gives least accuracy among the models**\n"
      ],
      "metadata": {
        "id": "F6SSidHoXHMa"
      }
    }
  ]
}