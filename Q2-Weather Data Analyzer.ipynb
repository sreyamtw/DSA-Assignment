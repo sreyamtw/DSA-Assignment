{
  "nbformat": 4,
  "nbformat_minor": 0,
  "metadata": {
    "colab": {
      "provenance": []
    },
    "kernelspec": {
      "name": "python3",
      "display_name": "Python 3"
    },
    "language_info": {
      "name": "python"
    }
  },
  "cells": [
    {
      "cell_type": "code",
      "source": [
        "def read_data(days):\n",
        "  temperature = []\n",
        "  humidity = []\n",
        "\n",
        "  for day in range(days):\n",
        "    print(f'\\nEnter data for day {day+1}')\n",
        "    temp = float(input('Temperature (in deg Celsius): '))\n",
        "    humid = float(input('Humidity(%): '))\n",
        "\n",
        "    temperature.append(temp)\n",
        "    humidity.append(humid)\n",
        "\n",
        "  return temperature,humidity\n",
        "\n",
        "def average_temperature(list):\n",
        "    average = sum(list)/len(list)\n",
        "    return average\n",
        "\n",
        "def average_humidity(list):\n",
        "    average = sum(list)/len(list)\n",
        "    return average\n",
        "\n",
        "def weather_report(temp, humid):\n",
        "  if temp > 25 and humid < 60 :\n",
        "    print('Sunny')\n",
        "\n",
        "  elif temp <20 and humid > 80 :\n",
        "    print('Rainy')\n",
        "\n",
        "  elif temp >=20 and temp <=25 and humid >= 60 and humid <= 80:\n",
        "    print('Cloudy')\n",
        "  else:\n",
        "    print('Moderate')\n"
      ],
      "metadata": {
        "id": "SWZCTN4J_nBq"
      },
      "execution_count": 10,
      "outputs": []
    },
    {
      "cell_type": "code",
      "source": [
        "days = int(input('Enter the no. of days:'))\n",
        "\n",
        "temperature, humidity = read_data(days)\n",
        "\n",
        "mean_temp = average_temperature(temperature)\n",
        "mean_humidity = average_humidity(humidity)\n",
        "print(f'\\nAverage temperature is {mean_temp:.2f}')\n",
        "print(f'\\nAverage Humidity is {mean_humidity:.2f}%')\n",
        "\n",
        "print('Weather condition in the region is ')\n",
        "weather_report(mean_temp,mean_humidity)\n"
      ],
      "metadata": {
        "colab": {
          "base_uri": "https://localhost:8080/"
        },
        "id": "HMIao9xK6_-t",
        "outputId": "df90fba0-bb24-411f-ed0a-e1f1944568da"
      },
      "execution_count": 12,
      "outputs": [
        {
          "output_type": "stream",
          "name": "stdout",
          "text": [
            "Enter the no. of days:5\n",
            "\n",
            "Enter data for day 1\n",
            "Temperature (in deg Celsius): 30.81\n",
            "Humidity(%): 68.21\n",
            "\n",
            "Enter data for day 2\n",
            "Temperature (in deg Celsius): 35\n",
            "Humidity(%): 75.8\n",
            "\n",
            "Enter data for day 3\n",
            "Temperature (in deg Celsius): 40\n",
            "Humidity(%): 80\n",
            "\n",
            "Enter data for day 4\n",
            "Temperature (in deg Celsius): 28.71\n",
            "Humidity(%): 69.2\n",
            "\n",
            "Enter data for day 5\n",
            "Temperature (in deg Celsius): 31\n",
            "Humidity(%): 73\n",
            "\n",
            "Average temperature is 33.10\n",
            "\n",
            "Average Humidity is 73.24%\n",
            "Weather condition in the region is \n",
            "Moderate\n"
          ]
        }
      ]
    },
    {
      "cell_type": "code",
      "source": [],
      "metadata": {
        "id": "Hatk8QP-Dbcv"
      },
      "execution_count": null,
      "outputs": []
    }
  ]
}